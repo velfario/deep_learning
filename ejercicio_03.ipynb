{
 "cells": [
  {
   "cell_type": "code",
   "execution_count": 1,
   "metadata": {},
   "outputs": [],
   "source": [
    "import numpy as np\n",
    "\n",
    "from tensorflow import keras"
   ]
  },
  {
   "cell_type": "code",
   "execution_count": 2,
   "metadata": {},
   "outputs": [],
   "source": [
    "def load_images(directory, image_size, batch_size=16, validation_split=0.25, seed=2704):\n",
    "    print(f'Cargando imágenes desde: {directory}')\n",
    "\n",
    "    train_data = keras.utils.image_dataset_from_directory(\n",
    "        directory,\n",
    "        validation_split = validation_split,\n",
    "        subset = \"training\",\n",
    "        # categorical hace que la salida sea sparce (one hot encoding)\n",
    "        label_mode='categorical',\n",
    "        seed = seed,\n",
    "        image_size = image_size,\n",
    "        batch_size = batch_size,\n",
    "        shuffle=True)\n",
    "    \n",
    "    valid_data = keras.utils.image_dataset_from_directory(\n",
    "        directory,\n",
    "        validation_split = validation_split,\n",
    "        subset = \"validation\",\n",
    "        # categorical hace que la salida sea sparce (one hot encoding)\n",
    "        label_mode='categorical',\n",
    "        seed = seed,\n",
    "        image_size = image_size,\n",
    "        batch_size = batch_size)\n",
    "    \n",
    "    print(\"\\n¡Imágenes cargadas exitosamente!\")\n",
    "    print(f\"Número de clases encontradas: {len(train_data.class_names)}\")\n",
    "    print(f\"Nombres de las clases: {train_data.class_names}\")\n",
    "    \n",
    "    normalization_model = keras.layers.Rescaling(1./255)\n",
    "    print(\"Capa normalizadora creada con éxito\") \n",
    "\n",
    "    augmentation_model = keras.models.Sequential()\n",
    "    # aumentamos el número de imágenes haciendo imágenes en espejo vertical y horizontal\n",
    "    augmentation_model.add(keras.layers.RandomFlip(\"horizontal_and_vertical\")) \n",
    "    # aumentamos haciendo rotaciones de las imágenes.\n",
    "    # factor hace que demos un giro aleatorio desde -0.25 a 0.25 vueltas.\n",
    "    # fill_mode hace que rellenemos los pixeles vacíos con nearest (rellenamos con el pixel que tenemos mas cerca)\n",
    "    augmentation_model.add(keras.layers.RandomRotation(factor=0.25, fill_mode='nearest'))\n",
    "    augmentation_model.add(keras.layers.RandomTranslation(height_factor=0.2, width_factor=0.2, fill_mode='nearest'))\n",
    "    print(\"Capas de aumento de imágenes creadas con éxito\")\n",
    "\n",
    "    return train_data, valid_data, normalization_model, augmentation_model"
   ]
  },
  {
   "cell_type": "code",
   "execution_count": 3,
   "metadata": {},
   "outputs": [],
   "source": [
    "def image_augmentation(image, label, augmentation_model):\n",
    "    image = augmentation_model(image)\n",
    "    return image, label"
   ]
  },
  {
   "cell_type": "code",
   "execution_count": 4,
   "metadata": {},
   "outputs": [],
   "source": [
    "def image_normalization(image, label, normalization_model):\n",
    "    image = normalization_model(image)\n",
    "    return image, label"
   ]
  },
  {
   "cell_type": "code",
   "execution_count": 5,
   "metadata": {},
   "outputs": [],
   "source": [
    "def create_model(imput_shape):\n",
    "    model = keras.models.Sequential()\n",
    "    model.add(keras.Input(shape=imput_shape))\n",
    "    model.add(keras.layers.Conv2D(filters = 6, kernel_size = (5,5), activation = \"relu\", padding = \"same\"))\n",
    "    model.add(keras.layers.AvgPool2D(pool_size=(2,2)))\n",
    "    model.add(keras.layers.Conv2D(filters = 16, kernel_size = (5,5), activation = \"relu\", padding = \"valid\"))\n",
    "    model.add(keras.layers.AvgPool2D(pool_size=(2,2)))\n",
    "    model.add(keras.layers.Conv2D(filters = 16, kernel_size = (5,5), activation = \"relu\", padding = \"valid\"))\n",
    "    model.add(keras.layers.AvgPool2D(pool_size=(2,2)))\n",
    "    model.add(keras.layers.Flatten())\n",
    "    model.add(keras.layers.Dense(units=64, activation=\"relu\"))\n",
    "    model.add(keras.layers.Dense(units=64, activation=\"relu\"))\n",
    "    model.add(keras.layers.Dense(units=15, activation=\"softmax\"))\n",
    "\n",
    "    optimizer = keras.optimizers.Adam(learning_rate=0.0001)\n",
    "    model.compile(loss='categorical_crossentropy', optimizer=optimizer, metrics=['acc'])\n",
    "\n",
    "    model.summary()\n",
    "\n",
    "    return model"
   ]
  },
  {
   "cell_type": "code",
   "execution_count": 6,
   "metadata": {},
   "outputs": [],
   "source": [
    "def train_model(model, train_data, valid_data, batch_size=None, epochs=10, steps_per_epoch=None, validation_steps=None):\n",
    "    model.fit(\n",
    "        train_data,\n",
    "        validation_data = valid_data,\n",
    "        batch_size = batch_size,\n",
    "        epochs = epochs,\n",
    "        steps_per_epoch=steps_per_epoch,\n",
    "        validation_steps = validation_steps,\n",
    "        verbose = 2)\n",
    "    \n",
    "    return model"
   ]
  },
  {
   "cell_type": "code",
   "execution_count": 7,
   "metadata": {},
   "outputs": [
    {
     "name": "stdout",
     "output_type": "stream",
     "text": [
      "Cargando imágenes desde: archive\n",
      "Found 70549 files belonging to 15 classes.\n",
      "Using 52912 files for training.\n",
      "Found 70549 files belonging to 15 classes.\n",
      "Using 17637 files for validation.\n",
      "\n",
      "¡Imágenes cargadas exitosamente!\n",
      "Número de clases encontradas: 15\n",
      "Nombres de las clases: ['Apple', 'Banana', 'Carambola', 'Guava', 'Kiwi', 'Mango', 'Orange', 'Peach', 'Pear', 'Persimmon', 'Pitaya', 'Plum', 'Pomegranate', 'Tomatoes', 'muskmelon']\n",
      "Capa normalizadora creada con éxito\n",
      "Capas de aumento de imágenes creadas con éxito\n"
     ]
    },
    {
     "data": {
      "text/html": [
       "<pre style=\"white-space:pre;overflow-x:auto;line-height:normal;font-family:Menlo,'DejaVu Sans Mono',consolas,'Courier New',monospace\"><span style=\"font-weight: bold\">Model: \"sequential_1\"</span>\n",
       "</pre>\n"
      ],
      "text/plain": [
       "\u001b[1mModel: \"sequential_1\"\u001b[0m\n"
      ]
     },
     "metadata": {},
     "output_type": "display_data"
    },
    {
     "data": {
      "text/html": [
       "<pre style=\"white-space:pre;overflow-x:auto;line-height:normal;font-family:Menlo,'DejaVu Sans Mono',consolas,'Courier New',monospace\">┏━━━━━━━━━━━━━━━━━━━━━━━━━━━━━━━━━┳━━━━━━━━━━━━━━━━━━━━━━━━┳━━━━━━━━━━━━━━━┓\n",
       "┃<span style=\"font-weight: bold\"> Layer (type)                    </span>┃<span style=\"font-weight: bold\"> Output Shape           </span>┃<span style=\"font-weight: bold\">       Param # </span>┃\n",
       "┡━━━━━━━━━━━━━━━━━━━━━━━━━━━━━━━━━╇━━━━━━━━━━━━━━━━━━━━━━━━╇━━━━━━━━━━━━━━━┩\n",
       "│ conv2d (<span style=\"color: #0087ff; text-decoration-color: #0087ff\">Conv2D</span>)                 │ (<span style=\"color: #00d7ff; text-decoration-color: #00d7ff\">None</span>, <span style=\"color: #00af00; text-decoration-color: #00af00\">150</span>, <span style=\"color: #00af00; text-decoration-color: #00af00\">150</span>, <span style=\"color: #00af00; text-decoration-color: #00af00\">6</span>)    │           <span style=\"color: #00af00; text-decoration-color: #00af00\">456</span> │\n",
       "├─────────────────────────────────┼────────────────────────┼───────────────┤\n",
       "│ average_pooling2d               │ (<span style=\"color: #00d7ff; text-decoration-color: #00d7ff\">None</span>, <span style=\"color: #00af00; text-decoration-color: #00af00\">75</span>, <span style=\"color: #00af00; text-decoration-color: #00af00\">75</span>, <span style=\"color: #00af00; text-decoration-color: #00af00\">6</span>)      │             <span style=\"color: #00af00; text-decoration-color: #00af00\">0</span> │\n",
       "│ (<span style=\"color: #0087ff; text-decoration-color: #0087ff\">AveragePooling2D</span>)              │                        │               │\n",
       "├─────────────────────────────────┼────────────────────────┼───────────────┤\n",
       "│ conv2d_1 (<span style=\"color: #0087ff; text-decoration-color: #0087ff\">Conv2D</span>)               │ (<span style=\"color: #00d7ff; text-decoration-color: #00d7ff\">None</span>, <span style=\"color: #00af00; text-decoration-color: #00af00\">71</span>, <span style=\"color: #00af00; text-decoration-color: #00af00\">71</span>, <span style=\"color: #00af00; text-decoration-color: #00af00\">16</span>)     │         <span style=\"color: #00af00; text-decoration-color: #00af00\">2,416</span> │\n",
       "├─────────────────────────────────┼────────────────────────┼───────────────┤\n",
       "│ average_pooling2d_1             │ (<span style=\"color: #00d7ff; text-decoration-color: #00d7ff\">None</span>, <span style=\"color: #00af00; text-decoration-color: #00af00\">35</span>, <span style=\"color: #00af00; text-decoration-color: #00af00\">35</span>, <span style=\"color: #00af00; text-decoration-color: #00af00\">16</span>)     │             <span style=\"color: #00af00; text-decoration-color: #00af00\">0</span> │\n",
       "│ (<span style=\"color: #0087ff; text-decoration-color: #0087ff\">AveragePooling2D</span>)              │                        │               │\n",
       "├─────────────────────────────────┼────────────────────────┼───────────────┤\n",
       "│ conv2d_2 (<span style=\"color: #0087ff; text-decoration-color: #0087ff\">Conv2D</span>)               │ (<span style=\"color: #00d7ff; text-decoration-color: #00d7ff\">None</span>, <span style=\"color: #00af00; text-decoration-color: #00af00\">31</span>, <span style=\"color: #00af00; text-decoration-color: #00af00\">31</span>, <span style=\"color: #00af00; text-decoration-color: #00af00\">16</span>)     │         <span style=\"color: #00af00; text-decoration-color: #00af00\">6,416</span> │\n",
       "├─────────────────────────────────┼────────────────────────┼───────────────┤\n",
       "│ average_pooling2d_2             │ (<span style=\"color: #00d7ff; text-decoration-color: #00d7ff\">None</span>, <span style=\"color: #00af00; text-decoration-color: #00af00\">15</span>, <span style=\"color: #00af00; text-decoration-color: #00af00\">15</span>, <span style=\"color: #00af00; text-decoration-color: #00af00\">16</span>)     │             <span style=\"color: #00af00; text-decoration-color: #00af00\">0</span> │\n",
       "│ (<span style=\"color: #0087ff; text-decoration-color: #0087ff\">AveragePooling2D</span>)              │                        │               │\n",
       "├─────────────────────────────────┼────────────────────────┼───────────────┤\n",
       "│ flatten (<span style=\"color: #0087ff; text-decoration-color: #0087ff\">Flatten</span>)               │ (<span style=\"color: #00d7ff; text-decoration-color: #00d7ff\">None</span>, <span style=\"color: #00af00; text-decoration-color: #00af00\">3600</span>)           │             <span style=\"color: #00af00; text-decoration-color: #00af00\">0</span> │\n",
       "├─────────────────────────────────┼────────────────────────┼───────────────┤\n",
       "│ dense (<span style=\"color: #0087ff; text-decoration-color: #0087ff\">Dense</span>)                   │ (<span style=\"color: #00d7ff; text-decoration-color: #00d7ff\">None</span>, <span style=\"color: #00af00; text-decoration-color: #00af00\">64</span>)             │       <span style=\"color: #00af00; text-decoration-color: #00af00\">230,464</span> │\n",
       "├─────────────────────────────────┼────────────────────────┼───────────────┤\n",
       "│ dense_1 (<span style=\"color: #0087ff; text-decoration-color: #0087ff\">Dense</span>)                 │ (<span style=\"color: #00d7ff; text-decoration-color: #00d7ff\">None</span>, <span style=\"color: #00af00; text-decoration-color: #00af00\">64</span>)             │         <span style=\"color: #00af00; text-decoration-color: #00af00\">4,160</span> │\n",
       "├─────────────────────────────────┼────────────────────────┼───────────────┤\n",
       "│ dense_2 (<span style=\"color: #0087ff; text-decoration-color: #0087ff\">Dense</span>)                 │ (<span style=\"color: #00d7ff; text-decoration-color: #00d7ff\">None</span>, <span style=\"color: #00af00; text-decoration-color: #00af00\">15</span>)             │           <span style=\"color: #00af00; text-decoration-color: #00af00\">975</span> │\n",
       "└─────────────────────────────────┴────────────────────────┴───────────────┘\n",
       "</pre>\n"
      ],
      "text/plain": [
       "┏━━━━━━━━━━━━━━━━━━━━━━━━━━━━━━━━━┳━━━━━━━━━━━━━━━━━━━━━━━━┳━━━━━━━━━━━━━━━┓\n",
       "┃\u001b[1m \u001b[0m\u001b[1mLayer (type)                   \u001b[0m\u001b[1m \u001b[0m┃\u001b[1m \u001b[0m\u001b[1mOutput Shape          \u001b[0m\u001b[1m \u001b[0m┃\u001b[1m \u001b[0m\u001b[1m      Param #\u001b[0m\u001b[1m \u001b[0m┃\n",
       "┡━━━━━━━━━━━━━━━━━━━━━━━━━━━━━━━━━╇━━━━━━━━━━━━━━━━━━━━━━━━╇━━━━━━━━━━━━━━━┩\n",
       "│ conv2d (\u001b[38;5;33mConv2D\u001b[0m)                 │ (\u001b[38;5;45mNone\u001b[0m, \u001b[38;5;34m150\u001b[0m, \u001b[38;5;34m150\u001b[0m, \u001b[38;5;34m6\u001b[0m)    │           \u001b[38;5;34m456\u001b[0m │\n",
       "├─────────────────────────────────┼────────────────────────┼───────────────┤\n",
       "│ average_pooling2d               │ (\u001b[38;5;45mNone\u001b[0m, \u001b[38;5;34m75\u001b[0m, \u001b[38;5;34m75\u001b[0m, \u001b[38;5;34m6\u001b[0m)      │             \u001b[38;5;34m0\u001b[0m │\n",
       "│ (\u001b[38;5;33mAveragePooling2D\u001b[0m)              │                        │               │\n",
       "├─────────────────────────────────┼────────────────────────┼───────────────┤\n",
       "│ conv2d_1 (\u001b[38;5;33mConv2D\u001b[0m)               │ (\u001b[38;5;45mNone\u001b[0m, \u001b[38;5;34m71\u001b[0m, \u001b[38;5;34m71\u001b[0m, \u001b[38;5;34m16\u001b[0m)     │         \u001b[38;5;34m2,416\u001b[0m │\n",
       "├─────────────────────────────────┼────────────────────────┼───────────────┤\n",
       "│ average_pooling2d_1             │ (\u001b[38;5;45mNone\u001b[0m, \u001b[38;5;34m35\u001b[0m, \u001b[38;5;34m35\u001b[0m, \u001b[38;5;34m16\u001b[0m)     │             \u001b[38;5;34m0\u001b[0m │\n",
       "│ (\u001b[38;5;33mAveragePooling2D\u001b[0m)              │                        │               │\n",
       "├─────────────────────────────────┼────────────────────────┼───────────────┤\n",
       "│ conv2d_2 (\u001b[38;5;33mConv2D\u001b[0m)               │ (\u001b[38;5;45mNone\u001b[0m, \u001b[38;5;34m31\u001b[0m, \u001b[38;5;34m31\u001b[0m, \u001b[38;5;34m16\u001b[0m)     │         \u001b[38;5;34m6,416\u001b[0m │\n",
       "├─────────────────────────────────┼────────────────────────┼───────────────┤\n",
       "│ average_pooling2d_2             │ (\u001b[38;5;45mNone\u001b[0m, \u001b[38;5;34m15\u001b[0m, \u001b[38;5;34m15\u001b[0m, \u001b[38;5;34m16\u001b[0m)     │             \u001b[38;5;34m0\u001b[0m │\n",
       "│ (\u001b[38;5;33mAveragePooling2D\u001b[0m)              │                        │               │\n",
       "├─────────────────────────────────┼────────────────────────┼───────────────┤\n",
       "│ flatten (\u001b[38;5;33mFlatten\u001b[0m)               │ (\u001b[38;5;45mNone\u001b[0m, \u001b[38;5;34m3600\u001b[0m)           │             \u001b[38;5;34m0\u001b[0m │\n",
       "├─────────────────────────────────┼────────────────────────┼───────────────┤\n",
       "│ dense (\u001b[38;5;33mDense\u001b[0m)                   │ (\u001b[38;5;45mNone\u001b[0m, \u001b[38;5;34m64\u001b[0m)             │       \u001b[38;5;34m230,464\u001b[0m │\n",
       "├─────────────────────────────────┼────────────────────────┼───────────────┤\n",
       "│ dense_1 (\u001b[38;5;33mDense\u001b[0m)                 │ (\u001b[38;5;45mNone\u001b[0m, \u001b[38;5;34m64\u001b[0m)             │         \u001b[38;5;34m4,160\u001b[0m │\n",
       "├─────────────────────────────────┼────────────────────────┼───────────────┤\n",
       "│ dense_2 (\u001b[38;5;33mDense\u001b[0m)                 │ (\u001b[38;5;45mNone\u001b[0m, \u001b[38;5;34m15\u001b[0m)             │           \u001b[38;5;34m975\u001b[0m │\n",
       "└─────────────────────────────────┴────────────────────────┴───────────────┘\n"
      ]
     },
     "metadata": {},
     "output_type": "display_data"
    },
    {
     "data": {
      "text/html": [
       "<pre style=\"white-space:pre;overflow-x:auto;line-height:normal;font-family:Menlo,'DejaVu Sans Mono',consolas,'Courier New',monospace\"><span style=\"font-weight: bold\"> Total params: </span><span style=\"color: #00af00; text-decoration-color: #00af00\">244,887</span> (956.59 KB)\n",
       "</pre>\n"
      ],
      "text/plain": [
       "\u001b[1m Total params: \u001b[0m\u001b[38;5;34m244,887\u001b[0m (956.59 KB)\n"
      ]
     },
     "metadata": {},
     "output_type": "display_data"
    },
    {
     "data": {
      "text/html": [
       "<pre style=\"white-space:pre;overflow-x:auto;line-height:normal;font-family:Menlo,'DejaVu Sans Mono',consolas,'Courier New',monospace\"><span style=\"font-weight: bold\"> Trainable params: </span><span style=\"color: #00af00; text-decoration-color: #00af00\">244,887</span> (956.59 KB)\n",
       "</pre>\n"
      ],
      "text/plain": [
       "\u001b[1m Trainable params: \u001b[0m\u001b[38;5;34m244,887\u001b[0m (956.59 KB)\n"
      ]
     },
     "metadata": {},
     "output_type": "display_data"
    },
    {
     "data": {
      "text/html": [
       "<pre style=\"white-space:pre;overflow-x:auto;line-height:normal;font-family:Menlo,'DejaVu Sans Mono',consolas,'Courier New',monospace\"><span style=\"font-weight: bold\"> Non-trainable params: </span><span style=\"color: #00af00; text-decoration-color: #00af00\">0</span> (0.00 B)\n",
       "</pre>\n"
      ],
      "text/plain": [
       "\u001b[1m Non-trainable params: \u001b[0m\u001b[38;5;34m0\u001b[0m (0.00 B)\n"
      ]
     },
     "metadata": {},
     "output_type": "display_data"
    },
    {
     "name": "stdout",
     "output_type": "stream",
     "text": [
      "Epoch 1/10\n",
      "3307/3307 - 479s - 145ms/step - acc: 0.5248 - loss: 1.4170 - val_acc: 0.7066 - val_loss: 0.8530\n",
      "Epoch 2/10\n",
      "3307/3307 - 437s - 132ms/step - acc: 0.7317 - loss: 0.7840 - val_acc: 0.7836 - val_loss: 0.6393\n",
      "Epoch 3/10\n",
      "3307/3307 - 528s - 160ms/step - acc: 0.7840 - loss: 0.6309 - val_acc: 0.8169 - val_loss: 0.5251\n",
      "Epoch 4/10\n",
      "3307/3307 - 410s - 124ms/step - acc: 0.8040 - loss: 0.5679 - val_acc: 0.8251 - val_loss: 0.5034\n",
      "Epoch 5/10\n",
      "3307/3307 - 441s - 133ms/step - acc: 0.8195 - loss: 0.5162 - val_acc: 0.8391 - val_loss: 0.4510\n",
      "Epoch 6/10\n",
      "3307/3307 - 482s - 146ms/step - acc: 0.8284 - loss: 0.4895 - val_acc: 0.8589 - val_loss: 0.3979\n",
      "Epoch 7/10\n",
      "3307/3307 - 418s - 126ms/step - acc: 0.8360 - loss: 0.4609 - val_acc: 0.8696 - val_loss: 0.3736\n",
      "Epoch 8/10\n",
      "3307/3307 - 404s - 122ms/step - acc: 0.8463 - loss: 0.4351 - val_acc: 0.8706 - val_loss: 0.3649\n",
      "Epoch 9/10\n",
      "3307/3307 - 424s - 128ms/step - acc: 0.8565 - loss: 0.4070 - val_acc: 0.8736 - val_loss: 0.3448\n",
      "Epoch 10/10\n",
      "3307/3307 - 426s - 129ms/step - acc: 0.8650 - loss: 0.3815 - val_acc: 0.8923 - val_loss: 0.3001\n"
     ]
    }
   ],
   "source": [
    "path = \"archive\"\n",
    "image_size = (150, 150)\n",
    "input_shape = (150, 150, 3)\n",
    "batch_size=16\n",
    "validation_split=0.25\n",
    "seed=2704\n",
    "\n",
    "# carga de datos\n",
    "train_data, valid_data, normalization_model, augmentation_model = load_images(path, image_size=image_size, batch_size=batch_size, validation_split=validation_split, seed=seed)\n",
    "\n",
    "# tratamiento a datos de entrenamiento\n",
    "train_data = train_data.map(lambda image, label: image_augmentation(image, label, augmentation_model))\n",
    "train_data = train_data.map(lambda image, label: image_normalization(image, label, normalization_model))\n",
    "\n",
    "# tratamiento a datos de validación\n",
    "valid_data = valid_data.map(lambda image, label: image_normalization(image, label, normalization_model))\n",
    "\n",
    "model = create_model(input_shape)\n",
    "model = train_model(model=model, train_data=train_data, valid_data=valid_data)"
   ]
  }
 ],
 "metadata": {
  "kernelspec": {
   "display_name": "Python 3",
   "language": "python",
   "name": "python3"
  },
  "language_info": {
   "codemirror_mode": {
    "name": "ipython",
    "version": 3
   },
   "file_extension": ".py",
   "mimetype": "text/x-python",
   "name": "python",
   "nbconvert_exporter": "python",
   "pygments_lexer": "ipython3",
   "version": "3.12.9"
  }
 },
 "nbformat": 4,
 "nbformat_minor": 2
}
